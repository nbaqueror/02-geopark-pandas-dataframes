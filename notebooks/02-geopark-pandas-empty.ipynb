{
  "cells": [
    {
      "cell_type": "markdown",
      "metadata": {
        "id": "Ek5dz53Uqj9i"
      },
      "source": [
        "# Pandas Dataframes\n",
        "\n",
        "In this notebook, you will learn about `Pandas` dataframes, a data structure in `Python` that provides the ability to work with **tabular data**. `Pandas` dataframes are composed of **rows** and **columns** that can have header names, and the columns in `pandas` dataframes can be different types (e.g. the first column containing integers and the second column containing text strings). Each value in a `pandas` dataframe is referred to as a cell that has a specific row index and column index within the tabular structure.\n",
        "\n",
        "Read more about working with `pandas` dataframes in our open [Earth Data Science textbook](https://www.earthdatascience.org/courses/intro-to-earth-data-science/scientific-data-structures-python/pandas-dataframes/).\n",
        "\n",
        "The [documentation](https://pandas.pydata.org/docs/user_guide/index.html) for the `pandas` library may also be useful."
      ]
    },
    {
      "cell_type": "code",
      "execution_count": null,
      "metadata": {
        "id": "tM-ukyHyjluT"
      },
      "outputs": [],
      "source": [
        "# Import libraries\n",
        "import pandas as pd\n",
        "import matplotlib.pyplot as plt # for\n",
        "import seaborn as sns #for making plots "
      ]
    },
    {
      "cell_type": "code",
      "execution_count": 2,
      "metadata": {
        "id": "w3YER5mGjrJI"
      },
      "outputs": [
        {
          "ename": "NameError",
          "evalue": "name 'pd' is not defined",
          "output_type": "error",
          "traceback": [
            "\u001b[0;31m---------------------------------------------------------------------------\u001b[0m",
            "\u001b[0;31mNameError\u001b[0m                                 Traceback (most recent call last)",
            "Cell \u001b[0;32mIn[2], line 8\u001b[0m\n\u001b[1;32m      5\u001b[0m col_airports_url \u001b[38;5;241m=\u001b[39m \u001b[38;5;124m\"\u001b[39m\u001b[38;5;124mhttps://ourairports.com/countries/CO/airports.csv\u001b[39m\u001b[38;5;124m\"\u001b[39m\n\u001b[1;32m      7\u001b[0m \u001b[38;5;66;03m# Open data with pandas and return first 5 rows\u001b[39;00m\n\u001b[0;32m----> 8\u001b[0m col_airports_df \u001b[38;5;241m=\u001b[39m \u001b[43mpd\u001b[49m\u001b[38;5;241m.\u001b[39mreal_csv(col_airports_url)\n\u001b[1;32m      9\u001b[0m col_airports_df\u001b[38;5;241m.\u001b[39mhead()\n",
            "\u001b[0;31mNameError\u001b[0m: name 'pd' is not defined"
          ]
        }
      ],
      "source": [
        "# Open Colombia airports .csv \n",
        "# Data are from: https://ourairports.com/countries/CO/\n",
        "\n",
        "# Define url\n",
        "col_airports_url = \"https://ourairports.com/countries/CO/airports.csv\"\n",
        "\n",
        "# Open data with pandas and return first 5 rows\n",
        "col_airports_df = pd.real_csv(col_airports_url)\n",
        "col_airports_df.head()\n"
      ]
    },
    {
      "cell_type": "code",
      "execution_count": null,
      "metadata": {
        "id": "iIx5qqXZ72CF"
      },
      "outputs": [],
      "source": [
        "# Return names of column headers using .column attribute\n"
      ]
    },
    {
      "cell_type": "code",
      "execution_count": null,
      "metadata": {
        "id": "XKf8sl15ju-X"
      },
      "outputs": [],
      "source": [
        "# Explore the data using .info() method\n"
      ]
    },
    {
      "cell_type": "code",
      "execution_count": null,
      "metadata": {
        "id": "pjXk6TiGkBSR"
      },
      "outputs": [],
      "source": [
        "# Return summary statistics using the .describe() method\n"
      ]
    },
    {
      "cell_type": "code",
      "execution_count": null,
      "metadata": {
        "id": "v7aUgbrlkp_-"
      },
      "outputs": [],
      "source": [
        "# Transpose (flip row/column) the data using the .T attribute or .transpose() method\n"
      ]
    },
    {
      "cell_type": "code",
      "execution_count": null,
      "metadata": {
        "id": "5bwJmS6Qk5OL"
      },
      "outputs": [],
      "source": [
        "# Select a single column and describe\n"
      ]
    },
    {
      "cell_type": "code",
      "execution_count": null,
      "metadata": {
        "id": "QjKH3C-6ldum"
      },
      "outputs": [],
      "source": [
        "# Select first 5 rows (can also be done using .head())\n"
      ]
    },
    {
      "cell_type": "code",
      "execution_count": null,
      "metadata": {
        "id": "MzatpDZTzFBd"
      },
      "outputs": [],
      "source": [
        "# Use .crosstab() function to return counts of specified variables\n"
      ]
    },
    {
      "cell_type": "markdown",
      "metadata": {
        "id": "VK6gcoc77Os4"
      },
      "source": [
        "# **Questions for airport DataFrame**\n",
        "1. How many airports above/below 5280' elevation?\n",
        "\n",
        "2. How many medium sized airports?\n",
        "\n",
        "3. How many heliports are in Bogota municipality?"
      ]
    },
    {
      "cell_type": "code",
      "execution_count": null,
      "metadata": {
        "id": "CE-5kzm0vilL"
      },
      "outputs": [],
      "source": [
        "# How many airports above 5280' (1 mile = elevation of Denver, Colorado)?\n"
      ]
    },
    {
      "cell_type": "code",
      "execution_count": null,
      "metadata": {
        "id": "cgrS6xY2y-yt"
      },
      "outputs": [],
      "source": [
        "# How many medium-sized airports?\n"
      ]
    },
    {
      "cell_type": "code",
      "execution_count": null,
      "metadata": {
        "id": "-btaSrpI1Lhg"
      },
      "outputs": [],
      "source": [
        "# How many heliports?\n"
      ]
    },
    {
      "cell_type": "markdown",
      "metadata": {
        "id": "IIt9OvUnEMzB"
      },
      "source": [
        "## **Fiscalized Oil & Gas Production 2020**\n",
        "\n",
        "This is another good example for doing pivots in pandas.\n",
        "\n",
        "**Objective:** Want to make a plot that has the monthly values ($, gal) plotted as a function of month as a line graph with each line colored by _operadora_. Allow to compare the different companies month-to-month. Also, **GeoPark** is in this data set. Can you find it? ;)"
      ]
    },
    {
      "cell_type": "code",
      "execution_count": null,
      "metadata": {
        "id": "Kvg6r_g1mPia"
      },
      "outputs": [],
      "source": [
        "# Define link to data url and open using pd.read_csv()\n",
        "oil_prod_2020_url = (\"https://www.datos.gov.co/resource/6v67-9pip.csv\")\n"
      ]
    },
    {
      "cell_type": "code",
      "execution_count": null,
      "metadata": {
        "id": "EGuDMo6tmPzP"
      },
      "outputs": [],
      "source": [
        "# Renaming the index column using .index.rename()\n",
        "\n",
        "\n",
        "# Selecting data up through a specified column 'campo' using .loc\n"
      ]
    },
    {
      "cell_type": "code",
      "execution_count": null,
      "metadata": {
        "id": "UiBaG4RtjWBZ"
      },
      "outputs": [],
      "source": [
        "# Melting the data to examine values by specifed month\n",
        "op20_month_df = (\n",
        "    op20_df\n",
        "    .loc[:,'enero':'diciembre']\n",
        "    .reset_index()\n",
        "    .melt(id_vars='oil_gas_id', var_name='month_name', value_name='value'))\n",
        "op20_month_df"
      ]
    },
    {
      "cell_type": "code",
      "execution_count": null,
      "metadata": {
        "id": "6iJLeD3ADVvC"
      },
      "outputs": [],
      "source": [
        "# Explore data using .info() method\n"
      ]
    },
    {
      "cell_type": "code",
      "execution_count": null,
      "metadata": {
        "id": "SAE1u5PsAM82"
      },
      "outputs": [],
      "source": [
        "# How many entries for each variable 'departmento'? Hint: df.groupby('col_name').size()\n"
      ]
    },
    {
      "cell_type": "code",
      "execution_count": null,
      "metadata": {
        "id": "A8rHyqWQDsGf"
      },
      "outputs": [],
      "source": [
        "# How many entries for each variable 'operadora' ?\n"
      ]
    },
    {
      "cell_type": "markdown",
      "metadata": {
        "id": "bHGSIq-JS0uM"
      },
      "source": [
        "## **Look exclusively at GeoPark**"
      ]
    },
    {
      "cell_type": "code",
      "execution_count": null,
      "metadata": {
        "id": "gaUrzGbEKkDf"
      },
      "outputs": [],
      "source": [
        "# Select out all Geopark entries\n"
      ]
    },
    {
      "cell_type": "code",
      "execution_count": null,
      "metadata": {
        "id": "lWHb8zxmMbCn"
      },
      "outputs": [],
      "source": [
        "# Select 'campo' and each of the 12 month columns and make new df\n",
        "\n",
        "\n",
        "# Group by 'campo' and sum for each month\n"
      ]
    },
    {
      "cell_type": "code",
      "execution_count": null,
      "metadata": {
        "id": "_ngzB-pS-Onq"
      },
      "outputs": [],
      "source": [
        "# Select out single month from gpk_campo_group and calculate sum\n"
      ]
    },
    {
      "cell_type": "code",
      "execution_count": null,
      "metadata": {
        "id": "RM7lL-WyQMEe"
      },
      "outputs": [],
      "source": [
        "# Transpose DataFrame\n"
      ]
    },
    {
      "cell_type": "code",
      "execution_count": null,
      "metadata": {
        "id": "wmRTfgyOQpOu"
      },
      "outputs": [],
      "source": [
        "# Plot each variable (campo) as function of month on same axis\n",
        "\n"
      ]
    },
    {
      "cell_type": "code",
      "execution_count": null,
      "metadata": {
        "id": "u6DrKEWhWjRJ"
      },
      "outputs": [],
      "source": [
        "# Drop the outlier JACAMAR & TIGANA using .drop()\n"
      ]
    },
    {
      "cell_type": "code",
      "execution_count": null,
      "metadata": {
        "id": "e2fYlsHVW3hr"
      },
      "outputs": [],
      "source": [
        "# Plot each variable (campo) as function of month on same axis\n"
      ]
    },
    {
      "cell_type": "markdown",
      "metadata": {
        "id": "Xa9d8G5YPrDz"
      },
      "source": [
        "## **Look at all operadoras**"
      ]
    },
    {
      "cell_type": "code",
      "execution_count": null,
      "metadata": {
        "id": "u8zlSakLGeCd"
      },
      "outputs": [],
      "source": [
        "# Select 'operadora' and each of the 12 month columns and make new df\n"
      ]
    },
    {
      "cell_type": "code",
      "execution_count": null,
      "metadata": {
        "id": "_7DawISOrAL7"
      },
      "outputs": [],
      "source": [
        "# Group by 'operadora' then sum -> return single entry per company per month\n"
      ]
    },
    {
      "cell_type": "code",
      "execution_count": null,
      "metadata": {
        "id": "tm6i2wmSsk6P"
      },
      "outputs": [],
      "source": [
        "# Transpose the DataFrame\n"
      ]
    },
    {
      "cell_type": "code",
      "execution_count": null,
      "metadata": {
        "id": "nDR-aTksucrk"
      },
      "outputs": [],
      "source": [
        "# Give index_col name of 'months'\n"
      ]
    },
    {
      "cell_type": "code",
      "execution_count": null,
      "metadata": {
        "id": "Aadcu7FcSQJN"
      },
      "outputs": [],
      "source": [
        "# Return list of column names for transposed DataFrame\n"
      ]
    },
    {
      "cell_type": "code",
      "execution_count": null,
      "metadata": {
        "id": "MCZQ00pREHHw"
      },
      "outputs": [],
      "source": [
        "# Plot columns (operadora) one-at-a-time\n"
      ]
    },
    {
      "cell_type": "code",
      "execution_count": null,
      "metadata": {
        "id": "o8uqBW1FwW83"
      },
      "outputs": [],
      "source": [
        "# Drop the outlier ECOPETROL S.A.\n"
      ]
    },
    {
      "cell_type": "code",
      "execution_count": null,
      "metadata": {
        "id": "__EWGBq_Tu5i"
      },
      "outputs": [],
      "source": [
        "# Plot each variable (company name) as function of month on same axis\n"
      ]
    },
    {
      "cell_type": "markdown",
      "metadata": {
        "id": "BBka6Zd7RqiI"
      },
      "source": [
        "# Look at all Departamentos"
      ]
    },
    {
      "cell_type": "code",
      "execution_count": null,
      "metadata": {
        "id": "hC6MxFNuRolI"
      },
      "outputs": [],
      "source": [
        "# Group by 'departamento' then sum -> return single entry per dept. per month\n",
        "\n",
        "# Select only columns with numeric values\n",
        "\n",
        "# Drop lat/long columns\n"
      ]
    },
    {
      "cell_type": "code",
      "execution_count": null,
      "metadata": {
        "id": "7Fcb6uhZTmN-"
      },
      "outputs": [],
      "source": [
        "# Transpose data\n",
        "\n",
        "# Give index_col name of 'months'\n"
      ]
    },
    {
      "cell_type": "code",
      "execution_count": null,
      "metadata": {
        "id": "jefV1XFpTE4_"
      },
      "outputs": [],
      "source": [
        "# Plot each variable (Departamento) as function of month on same axis\n"
      ]
    },
    {
      "cell_type": "markdown",
      "metadata": {
        "id": "3TFbQO43KVlS"
      },
      "source": [
        "# **Questions for production DataFrame**\n",
        "**1.** What was the total production for GPK in agosto 2020?\n",
        "\n",
        "**2.** How many field sites (campo) are in the XXX Departamento?\n",
        "\n",
        "**3.** Create a plot comparing GPK to other two operators (operadora) of your choice."
      ]
    },
    {
      "cell_type": "code",
      "execution_count": null,
      "metadata": {
        "id": "MpGW2XTg1J3h"
      },
      "outputs": [],
      "source": [
        "# Looking at global oil production using another data set from OECD\n",
        "\n",
        "global_oil_url = \"https://stats.oecd.org/sdmx-json/data/DP_LIVE/.OILPROD.TOT.KTOE.A/OECD?contentType=csv&detail=code&separator=comma&csv-lang=en&startPeriod=1960&endPeriod=2021\"\n",
        "\n",
        "global_oil_df = pd.read_csv(global_oil_url)\n",
        "print(global_oil_df)\n",
        "\n",
        "# Select COLOMBIA and print first 5 rows\n",
        "\n",
        "\n",
        "# Plot Colombia data\n"
      ]
    }
  ],
  "metadata": {
    "colab": {
      "provenance": []
    },
    "kernelspec": {
      "display_name": "Python 3",
      "name": "python3"
    },
    "language_info": {
      "codemirror_mode": {
        "name": "ipython",
        "version": 3
      },
      "file_extension": ".py",
      "mimetype": "text/x-python",
      "name": "python",
      "nbconvert_exporter": "python",
      "pygments_lexer": "ipython3",
      "version": "3.10.11"
    }
  },
  "nbformat": 4,
  "nbformat_minor": 0
}
